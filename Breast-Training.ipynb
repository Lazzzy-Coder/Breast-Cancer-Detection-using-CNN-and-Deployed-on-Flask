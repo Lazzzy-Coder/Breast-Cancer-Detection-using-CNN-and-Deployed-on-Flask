{
 "cells": [
  {
   "cell_type": "code",
   "execution_count": 8,
   "metadata": {},
   "outputs": [],
   "source": [
    "from tensorflow.keras.preprocessing.image import ImageDataGenerator\n",
    "from tensorflow.keras.models import Sequential\n",
    "from tensorflow.keras.layers import Dense\n",
    "from tensorflow.keras.layers import Convolution2D\n",
    "from tensorflow.keras.layers import MaxPooling2D\n",
    "from tensorflow.keras.layers import Flatten"
   ]
  },
  {
   "cell_type": "code",
   "execution_count": 9,
   "metadata": {},
   "outputs": [],
   "source": [
    "train_datagen = ImageDataGenerator(rescale = 1./255,shear_range = 0.2,zoom_range = 0.2,horizontal_flip = True)\n",
    "test_datagen =ImageDataGenerator(rescale = 1)"
   ]
  },
  {
   "cell_type": "code",
   "execution_count": 10,
   "metadata": {},
   "outputs": [
    {
     "name": "stdout",
     "output_type": "stream",
     "text": [
      "Found 103 images belonging to 2 classes.\n",
      "Found 22 images belonging to 2 classes.\n"
     ]
    }
   ],
   "source": [
    "x_train = train_datagen.flow_from_directory('breastcancerdataset/train',target_size = (120,120),batch_size = 10, class_mode = 'categorical')\n",
    "x_test =  test_datagen.flow_from_directory('breastcancerdataset/test',target_size = (120,120),batch_size = 10, class_mode = 'categorical')"
   ]
  },
  {
   "cell_type": "code",
   "execution_count": 11,
   "metadata": {},
   "outputs": [
    {
     "name": "stdout",
     "output_type": "stream",
     "text": [
      "{'benign': 0, 'malignant': 1}\n"
     ]
    }
   ],
   "source": [
    "print(x_train.class_indices)"
   ]
  },
  {
   "cell_type": "code",
   "execution_count": 12,
   "metadata": {},
   "outputs": [],
   "source": [
    "model = Sequential()"
   ]
  },
  {
   "cell_type": "code",
   "execution_count": 13,
   "metadata": {},
   "outputs": [],
   "source": [
    "model.add(Convolution2D(32,(3,3),input_shape=(120,120,3),activation='relu'))\n",
    "model.add(MaxPooling2D(2,2))\n",
    "model.add(Flatten()) \n",
    "model.add(Dense(kernel_initializer='uniform',activation='relu',units=150))\n",
    "model.add(Dense(kernel_initializer='uniform',activation='softmax',units=2))\n",
    "model.compile(loss='categorical_crossentropy', optimizer='adam', metrics=['acc'])"
   ]
  },
  {
   "cell_type": "code",
   "execution_count": 14,
   "metadata": {},
   "outputs": [
    {
     "name": "stderr",
     "output_type": "stream",
     "text": [
      "/var/folders/vb/qy21fhl95xj_901vphpmlk9c0000gn/T/ipykernel_44217/1784072843.py:1: UserWarning: `Model.fit_generator` is deprecated and will be removed in a future version. Please use `Model.fit`, which supports generators.\n",
      "  model.fit_generator(x_train, steps_per_epoch = 103//10 ,epochs = 10, validation_data = x_test, validation_steps=22//10)\n"
     ]
    },
    {
     "name": "stdout",
     "output_type": "stream",
     "text": [
      "Epoch 1/10\n",
      "10/10 [==============================] - 4s 340ms/step - loss: 2.0255 - acc: 0.5591 - val_loss: 151.5187 - val_acc: 0.7500\n",
      "Epoch 2/10\n",
      "10/10 [==============================] - 3s 318ms/step - loss: 0.6267 - acc: 0.6559 - val_loss: 196.3065 - val_acc: 0.7000\n",
      "Epoch 3/10\n",
      "10/10 [==============================] - 3s 296ms/step - loss: 0.6608 - acc: 0.6882 - val_loss: 11.6677 - val_acc: 0.4500\n",
      "Epoch 4/10\n",
      "10/10 [==============================] - 3s 293ms/step - loss: 0.5897 - acc: 0.6882 - val_loss: 133.3670 - val_acc: 0.7000\n",
      "Epoch 5/10\n",
      "10/10 [==============================] - 3s 302ms/step - loss: 0.5160 - acc: 0.7527 - val_loss: 69.7694 - val_acc: 0.7000\n",
      "Epoch 6/10\n",
      "10/10 [==============================] - 4s 375ms/step - loss: 0.5331 - acc: 0.7312 - val_loss: 24.8030 - val_acc: 0.8000\n",
      "Epoch 7/10\n",
      "10/10 [==============================] - 3s 307ms/step - loss: 0.5771 - acc: 0.7419 - val_loss: 9.4594 - val_acc: 0.7000\n",
      "Epoch 8/10\n",
      "10/10 [==============================] - 3s 319ms/step - loss: 0.6000 - acc: 0.7419 - val_loss: 119.1994 - val_acc: 0.7000\n",
      "Epoch 9/10\n",
      "10/10 [==============================] - 4s 359ms/step - loss: 0.5079 - acc: 0.7312 - val_loss: 101.0202 - val_acc: 0.7000\n",
      "Epoch 10/10\n",
      "10/10 [==============================] - 3s 324ms/step - loss: 0.4656 - acc: 0.7527 - val_loss: 125.9978 - val_acc: 0.7000\n"
     ]
    },
    {
     "data": {
      "text/plain": [
       "<keras.callbacks.History at 0x7f7e156f13a0>"
      ]
     },
     "execution_count": 14,
     "metadata": {},
     "output_type": "execute_result"
    }
   ],
   "source": [
    "model.fit_generator(x_train, steps_per_epoch = 103//10 ,epochs = 10, validation_data = x_test, validation_steps=22//10)"
   ]
  },
  {
   "cell_type": "code",
   "execution_count": 15,
   "metadata": {},
   "outputs": [],
   "source": [
    "model.save(\"breastcancer.h5\")"
   ]
  },
  {
   "cell_type": "code",
   "execution_count": null,
   "metadata": {},
   "outputs": [],
   "source": []
  }
 ],
 "metadata": {
  "kernelspec": {
   "display_name": "Python 3 (ipykernel)",
   "language": "python",
   "name": "python3"
  },
  "language_info": {
   "codemirror_mode": {
    "name": "ipython",
    "version": 3
   },
   "file_extension": ".py",
   "mimetype": "text/x-python",
   "name": "python",
   "nbconvert_exporter": "python",
   "pygments_lexer": "ipython3",
   "version": "3.9.7"
  }
 },
 "nbformat": 4,
 "nbformat_minor": 2
}
